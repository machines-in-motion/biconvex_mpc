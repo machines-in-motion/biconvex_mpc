{
 "cells": [
  {
   "cell_type": "markdown",
   "metadata": {},
   "source": [
    "##                                                              Generating Cyclic Motions\n",
    "\n",
    "In this tutorial, we will see how to generate a trot gait for solo12 (quadruped robot) using the BiConMP framework. The same ideas can be used to generate arbitrary gaits that you desire !!!\n",
    "\n",
    "Firstly we import all the neccesary packages to setup the example :-)"
   ]
  },
  {
   "cell_type": "code",
   "execution_count": 1,
   "metadata": {},
   "outputs": [],
   "source": [
    "%load_ext autoreload\n",
    "%autoreload 2\n",
    "\n",
    "import time\n",
    "import numpy as np\n",
    "import pinocchio as pin\n",
    "from matplotlib import pyplot as plt\n",
    "%matplotlib notebook \n",
    "\n",
    "from robot_properties_solo.config import Solo12Config\n",
    "from mpc.abstract_cyclic_gen import SoloMpcGaitGen\n",
    "from motions.weight_abstract import BiconvexMotionParams\n",
    "# from solo12_gait_params import trot, walk\n"
   ]
  },
  {
   "cell_type": "markdown",
   "metadata": {},
   "source": [
    "Now that we have imported all the packages that we need, we initialize the meshcat using the pinocciho meshcat wrapper below. We will use meshcat to visualize the final motion/trajectory obtained from the BiConMP framework. "
   ]
  },
  {
   "cell_type": "code",
   "execution_count": 2,
   "metadata": {},
   "outputs": [
    {
     "name": "stdout",
     "output_type": "stream",
     "text": [
      "You can open the visualizer by visiting the following URL:\n",
      "http://127.0.0.1:7000/static/\n"
     ]
    }
   ],
   "source": [
    "robot = Solo12Config.buildRobotWrapper()\n",
    "viz = pin.visualize.MeshcatVisualizer(robot.model, robot.collision_model, robot.visual_model)\n",
    "viz.initViewer(open=False)\n",
    "viz.loadViewerModel()\n",
    "pin_robot = Solo12Config.buildRobotWrapper()\n"
   ]
  },
  {
   "cell_type": "markdown",
   "metadata": {},
   "source": [
    "### Biconvex Motion Params\n",
    "\n",
    "To be written ...."
   ]
  },
  {
   "cell_type": "code",
   "execution_count": 19,
   "metadata": {},
   "outputs": [],
   "source": [
    "#### Trot #########################################\n",
    "trot = BiconvexMotionParams(\"solo12\", \"Trot\")\n",
    "\n",
    "# Cnt\n",
    "trot.gait_period = 0.5\n",
    "trot.stance_percent = [0.6, 0.6, 0.6, 0.6]\n",
    "trot.gait_dt = 0.05\n",
    "trot.phase_offset = [0.0, 0.5, 0.5, 0.0]\n",
    "\n",
    "# IK\n",
    "trot.state_wt = np.array([0., 0, 10] + [1000, 1000, 1000] + [1.0] * (pin_robot.model.nv - 6) \\\n",
    "                        + [0.00] * 3 + [100, 100, 100] + [0.5] *(pin_robot.model.nv - 6))\n",
    "\n",
    "trot.ctrl_wt = [0, 0, 1000] + [5e2, 5e2, 5e2] + [1.0] *(pin_robot.model.nv - 6)\n",
    "\n",
    "trot.swing_wt = [1e4, 1e4]\n",
    "trot.cent_wt = [0*5e+1, 5e+2]\n",
    "trot.step_ht = 0.05\n",
    "trot.nom_ht = 0.2\n",
    "trot.reg_wt = [5e-2, 1e-5]\n",
    "\n",
    "# Dyn \n",
    "trot.W_X =        np.array([1e-5, 1e-5, 1e+5, 1e+1, 1e+1, 2e+2, 1e+4, 1e+4, 1e4])\n",
    "trot.W_X_ter = 10*np.array([1e+5, 1e-5, 1e+5, 1e+1, 1e+1, 2e+2, 1e+5, 1e+5, 1e+5])\n",
    "trot.W_F = np.array(4*[1e+1, 1e+1, 1e+1])\n",
    "trot.rho = 5e+4\n",
    "trot.ori_correction = [0.3, 0.5, 0.4]\n",
    "trot.gait_horizon = 10.0\n",
    "trot.kp = 3.0\n",
    "trot.kd = 0.05"
   ]
  },
  {
   "cell_type": "code",
   "execution_count": 23,
   "metadata": {},
   "outputs": [
    {
     "name": "stdout",
     "output_type": "stream",
     "text": [
      "Initialized Kino-Dyn planner\n"
     ]
    }
   ],
   "source": [
    "## Motion\n",
    "gait_params = trot\n",
    "\n",
    "## robot config and init\n",
    "urdf_path = Solo12Config.urdf_path\n",
    "gait_time = gait_params.gait_period\n",
    "dt = 5e-2\n",
    "\n",
    "n_eff = 4\n",
    "q0 = np.array(Solo12Config.initial_configuration)\n",
    "# q0[7:13] = 2 * [0.0, -0.8, 1.6]\n",
    "\n",
    "v0 = pin.utils.zero(pin_robot.model.nv)\n",
    "x0 = np.concatenate([q0, pin.utils.zero(pin_robot.model.nv)])\n",
    "\n",
    "w_des = 0.0\n",
    "v_des = np.array([0.4,0.0, 0])\n",
    "\n",
    "update_time = 0.02 # sec (time of lag)\n",
    "plan_freq = 10.0 # sec\n",
    "\n",
    "n = 1\n",
    "\n",
    "sim_t = 0.0\n",
    "step_t = 0\n",
    "sim_dt = .001\n",
    "\n",
    "gg = SoloMpcGaitGen(pin_robot, urdf_path, x0, plan_freq, q0, None)\n",
    "gg.update_gait_params(gait_params, sim_t)"
   ]
  },
  {
   "cell_type": "code",
   "execution_count": 24,
   "metadata": {},
   "outputs": [
    {
     "data": {
      "text/html": [
       "\n",
       "            <div style=\"height: 400px; width: 100%; overflow-x: auto; overflow-y: hidden; resize: both\">\n",
       "            <iframe src=\"http://127.0.0.1:7000/static/\" style=\"width: 100%; height: 100%; border: none\"></iframe>\n",
       "            </div>\n",
       "            "
      ],
      "text/plain": [
       "<IPython.core.display.HTML object>"
      ]
     },
     "execution_count": 24,
     "metadata": {},
     "output_type": "execute_result"
    }
   ],
   "source": [
    "viz.viewer.jupyter_cell()"
   ]
  },
  {
   "cell_type": "code",
   "execution_count": 25,
   "metadata": {
    "scrolled": false
   },
   "outputs": [
    {
     "name": "stdout",
     "output_type": "stream",
     "text": [
      "Maximum iterations reached \n",
      "Final norm: 0.000947193\n"
     ]
    },
    {
     "ename": "IndexError",
     "evalue": "index 2450 is out of bounds for axis 0 with size 2450",
     "output_type": "error",
     "traceback": [
      "\u001b[0;31m---------------------------------------------------------------------------\u001b[0m",
      "\u001b[0;31mIndexError\u001b[0m                                Traceback (most recent call last)",
      "Input \u001b[0;32mIn [25]\u001b[0m, in \u001b[0;36m<cell line: 10>\u001b[0;34m()\u001b[0m\n\u001b[1;32m      8\u001b[0m xs_plan, us_plan, f_plan \u001b[38;5;241m=\u001b[39m gg\u001b[38;5;241m.\u001b[39moptimize(q, v, np\u001b[38;5;241m.\u001b[39mround(sim_t,\u001b[38;5;241m3\u001b[39m), v_des, w_des)\n\u001b[1;32m     10\u001b[0m \u001b[38;5;28;01mfor\u001b[39;00m ind \u001b[38;5;129;01min\u001b[39;00m \u001b[38;5;28mrange\u001b[39m(\u001b[38;5;28mint\u001b[39m(plan_freq\u001b[38;5;241m/\u001b[39msim_dt)):\n\u001b[0;32m---> 11\u001b[0m     viz\u001b[38;5;241m.\u001b[39mdisplay(\u001b[43mxs_plan\u001b[49m\u001b[43m[\u001b[49m\u001b[43mind\u001b[49m\u001b[43m]\u001b[49m[:robot\u001b[38;5;241m.\u001b[39mmodel\u001b[38;5;241m.\u001b[39mnq])\n",
      "\u001b[0;31mIndexError\u001b[0m: index 2450 is out of bounds for axis 0 with size 2450"
     ]
    }
   ],
   "source": [
    "%matplotlib notebook \n",
    "\n",
    "q = q0\n",
    "v = v0\n",
    "step_t = 0\n",
    "n = 0\n",
    "\n",
    "xs_plan, us_plan, f_plan = gg.optimize(q, v, np.round(sim_t,3), v_des, w_des)\n",
    "\n",
    "for ind in range(int(plan_freq/sim_dt)):\n",
    "    viz.display(xs_plan[ind][:robot.model.nq])"
   ]
  },
  {
   "cell_type": "code",
   "execution_count": 26,
   "metadata": {},
   "outputs": [],
   "source": [
    "np.savez(\"trot.npz\", xs_plan = xs_plan, us_plan = us_plan, f_plan = f_plan)"
   ]
  },
  {
   "cell_type": "code",
   "execution_count": null,
   "metadata": {},
   "outputs": [],
   "source": []
  }
 ],
 "metadata": {
  "kernelspec": {
   "display_name": "Python 3 (ipykernel)",
   "language": "python",
   "name": "python3"
  },
  "language_info": {
   "codemirror_mode": {
    "name": "ipython",
    "version": 3
   },
   "file_extension": ".py",
   "mimetype": "text/x-python",
   "name": "python",
   "nbconvert_exporter": "python",
   "pygments_lexer": "ipython3",
   "version": "3.8.10"
  }
 },
 "nbformat": 4,
 "nbformat_minor": 4
}
